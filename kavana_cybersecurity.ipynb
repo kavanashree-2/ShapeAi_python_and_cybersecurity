{
  "nbformat": 4,
  "nbformat_minor": 0,
  "metadata": {
    "colab": {
      "name": "kavana_cybersecurity.ipynb",
      "provenance": [],
      "collapsed_sections": []
    },
    "kernelspec": {
      "name": "python3",
      "display_name": "Python 3"
    },
    "language_info": {
      "name": "python"
    }
  },
  "cells": [
    {
      "cell_type": "code",
      "metadata": {
        "id": "dv0ZDPyadGtm"
      },
      "source": [
        "import requests"
      ],
      "execution_count": 7,
      "outputs": []
    },
    {
      "cell_type": "code",
      "metadata": {
        "id": "EgedxcZ0dSe8"
      },
      "source": [
        "from datetime import datetime"
      ],
      "execution_count": 8,
      "outputs": []
    },
    {
      "cell_type": "code",
      "metadata": {
        "colab": {
          "base_uri": "https://localhost:8080/"
        },
        "id": "kZ31XsaHdbl6",
        "outputId": "b376d99d-7c70-4701-9b24-1e64e2860351"
      },
      "source": [
        "api_key = '461fb09c929acdc55b91e82262950c33'\n",
        "location = input(\"Enter the city name:\")\n",
        "complete_api_link=\"http://api.openweathermap.org/data/2.5/weather?q=\"+location+\"&appid=\"+api_key\n",
        "api_link = requests.get(complete_api_link)\n",
        "api_data = api_link.json()\n",
        "\n",
        "temp_city = ((api_data['main']['temp'])-273.15)\n",
        "weather_desc = api_data['weather'][0]['description']\n",
        "hmdt = api_data['main']['humidity']\n",
        "wind_spd = api_data['wind']['speed']\n",
        "date_time = datetime.now().strftime(\"%d %b %Y | %I:%M:%S %p\")\n",
        "\n",
        "print(\"-----------------------------------------------------------------------------------\")\n",
        "print(\"Weather Stats For - {} || {}\".format(location.upper(),date_time))\n",
        "print(\"-----------------------------------------------------------------------------------\")\n",
        "\n",
        "print(\"current Temperature is: {:.2f} deg C\".format(temp_city))\n",
        "print(\"Current Weather desc  :\",weather_desc)\n",
        "print(\"Current Humidity      :\",hmdt, '%')\n",
        "print(\"Current Wind speed    :\",wind_spd ,\"kmph\")"
      ],
      "execution_count": 9,
      "outputs": [
        {
          "output_type": "stream",
          "text": [
            "Enter the city name:mysore\n",
            "-----------------------------------------------------------------------------------\n",
            "Weather Stats For - MYSORE || 23 Jun 2021 | 09:40:17 AM\n",
            "-----------------------------------------------------------------------------------\n",
            "current Temperature is: 31.00 deg C\n",
            "Current Weather desc  : scattered clouds\n",
            "Current Humidity      : 45 %\n",
            "Current Wind speed    : 3.09 kmph\n"
          ],
          "name": "stdout"
        }
      ]
    },
    {
      "cell_type": "code",
      "metadata": {
        "id": "iRnVmk6Qt8Vg"
      },
      "source": [
        "txtdoc=[temp_city,weather_desc,hmdt,wind_spd,date_time]\n",
        "with open(\"kavana_cybersecurity.txt\",'w',encoding = 'utf-8')as f:\n",
        "  f.write(\"-----------------------------------------------------------------------------------\")\n",
        "  f.write(\"Weather Stats for - {} || {}\".format(location.upper(),date_time))\n",
        "  f.write(\"-----------------------------------------------------------------------------------\")\n",
        "  f.write(\"current Temperature is: {:.2f} deg C\\n\".format(txtdoc[0]))\n",
        "\n",
        "  f.write(\"{},{}\\n\".format(\"Current weather desc :\",txtdoc[1]))\n",
        "  f.write(\"{} ,{} ,{} \\n\".format(\"Current Humidity :\",txtdoc[2],\"%\"))\n",
        "  f.write(\"{} ,{} ,{} \\n\".format(\"Current Wind speed  :\",txtdoc[3],\"kmph\"))\n",
        "  f.write(\"-----------------------------------------------------------------------------------\")\n",
        "\n",
        "  f.close\n"
      ],
      "execution_count": 10,
      "outputs": []
    }
  ]
}